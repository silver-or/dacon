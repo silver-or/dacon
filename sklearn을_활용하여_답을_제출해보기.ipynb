{
  "cells": [
    {
      "cell_type": "markdown",
      "metadata": {
        "id": "view-in-github",
        "colab_type": "text"
      },
      "source": [
        "<a href=\"https://colab.research.google.com/github/silver-or/dacon/blob/main/sklearn%EC%9D%84_%ED%99%9C%EC%9A%A9%ED%95%98%EC%97%AC_%EB%8B%B5%EC%9D%84_%EC%A0%9C%EC%B6%9C%ED%95%B4%EB%B3%B4%EA%B8%B0.ipynb\" target=\"_parent\"><img src=\"https://colab.research.google.com/assets/colab-badge.svg\" alt=\"Open In Colab\"/></a>"
      ]
    },
    {
      "cell_type": "markdown",
      "metadata": {
        "id": "LlFhr5r5UIuy"
      },
      "source": [
        "## sklearn의 randomforest 이용한 풀이 방법"
      ]
    },
    {
      "cell_type": "code",
      "execution_count": null,
      "metadata": {
        "id": "o-xqL2u9T8Gj"
      },
      "outputs": [],
      "source": [
        "import os\n",
        "\n",
        "import numpy as np\n",
        "import pandas as pd\n",
        "\n",
        "import seaborn as sns \n",
        "import matplotlib.pyplot as plt\n",
        "\n",
        "plt.rcParams['figure.figsize']=(10,10)\n",
        "plt.rcParams['font.family']='AppleGothic'\n",
        "\n",
        "import warnings\n",
        "warnings.filterwarnings(action='ignore')"
      ]
    },
    {
      "cell_type": "markdown",
      "metadata": {
        "id": "z7R5CmU_UZCM"
      },
      "source": [
        "### 1. 데이터 불러오기"
      ]
    },
    {
      "cell_type": "code",
      "execution_count": null,
      "metadata": {
        "id": "qcDwjDeUUctC"
      },
      "outputs": [],
      "source": [
        "def read_csv_by_dir(path, index_col=None):\n",
        "    df_raw = pd.DataFrame()\n",
        "    for files in os.listdir(path):\n",
        "        if files.endswith('.csv'):\n",
        "            df = pd.read_csv('/'.join([path,files]),\n",
        "                            index_col=index_col)\n",
        "        df_raw = pd.concat((df_raw,df),axis=0)\n",
        "    return df_raw"
      ]
    },
    {
      "cell_type": "code",
      "execution_count": null,
      "metadata": {
        "colab": {
          "base_uri": "https://localhost:8080/"
        },
        "id": "RCYAVqRsUoco",
        "outputId": "1aefe6ee-c7b2-45bf-91df-1432e08058d7"
      },
      "outputs": [
        {
          "name": "stdout",
          "output_type": "stream",
          "text": [
            "Mounted at /content/drive\n"
          ]
        }
      ],
      "source": [
        "from google.colab import drive\n",
        "drive.mount('/content/drive')"
      ]
    },
    {
      "cell_type": "code",
      "execution_count": null,
      "metadata": {
        "id": "c6Fo1X1AUiM5"
      },
      "outputs": [],
      "source": [
        "path = '/content/drive/MyDrive/colab/competition_data'\n",
        "_df_rf_raw = read_csv_by_dir('/'.join([path,'rf_data']),\n",
        "                            index_col=0)\n",
        "\n",
        "_df_water_raw = read_csv_by_dir('/'.join([path,'water_data']),\n",
        "                               index_col=0)\n",
        "\n",
        "_submission_raw = pd.read_csv('/'.join([path,'sample_submission.csv']),\n",
        "                             index_col=0)"
      ]
    },
    {
      "cell_type": "code",
      "execution_count": null,
      "metadata": {
        "id": "veDlxVFZVl80"
      },
      "outputs": [],
      "source": [
        "# raw_data 보존하기\n",
        "df_rf=_df_rf_raw.copy()\n",
        "df_rf.name = \"rain_data\"\n",
        "\n",
        "df_water=_df_water_raw.copy()\n",
        "df_water.name = \"water_data\"\n",
        "\n",
        "submission=_submission_raw.copy()\n",
        "submission.name = \"submission\""
      ]
    },
    {
      "cell_type": "markdown",
      "metadata": {
        "id": "WwTfkrjnVxp7"
      },
      "source": [
        "### 2. 데이터 전처리"
      ]
    },
    {
      "cell_type": "code",
      "execution_count": null,
      "metadata": {
        "colab": {
          "base_uri": "https://localhost:8080/"
        },
        "id": "OXXW7z7WWXoy",
        "outputId": "15af60bf-1869-43db-f111-d892f90bd248"
      },
      "outputs": [
        {
          "name": "stdout",
          "output_type": "stream",
          "text": [
            "Index(['2018-05-01 00:00', '2018-05-01 00:10', '2018-05-01 00:20',\n",
            "       '2018-05-01 00:30', '2018-05-01 00:40', '2018-05-01 00:50',\n",
            "       '2018-05-01 01:00', '2018-05-01 01:10', '2018-05-01 01:20',\n",
            "       '2018-05-01 01:30',\n",
            "       ...\n",
            "       '2017-10-31 22:20', '2017-10-31 22:30', '2017-10-31 22:40',\n",
            "       '2017-10-31 22:50', '2017-10-31 23:00', '2017-10-31 23:10',\n",
            "       '2017-10-31 23:20', '2017-10-31 23:30', '2017-10-31 23:40',\n",
            "       '2017-10-31 23:50'],\n",
            "      dtype='object', name='ymdhm', length=276336)\n",
            "Index(['2012-05-01 00:00', '2012-05-01 00:10', '2012-05-01 00:20',\n",
            "       '2012-05-01 00:30', '2012-05-01 00:40', '2012-05-01 00:50',\n",
            "       '2012-05-01 01:00', '2012-05-01 01:10', '2012-05-01 01:20',\n",
            "       '2012-05-01 01:30',\n",
            "       ...\n",
            "       '2017-10-31 22:20', '2017-10-31 22:30', '2017-10-31 22:40',\n",
            "       '2017-10-31 22:50', '2017-10-31 23:00', '2017-10-31 23:10',\n",
            "       '2017-10-31 23:20', '2017-10-31 23:30', '2017-10-31 23:40',\n",
            "       '2017-10-31 23:50'],\n",
            "      dtype='object', name='ymdhm', length=276336)\n",
            "Index(['2022-06-01 00:00', '2022-06-01 00:10', '2022-06-01 00:20',\n",
            "       '2022-06-01 00:30', '2022-06-01 00:40', '2022-06-01 00:50',\n",
            "       '2022-06-01 01:00', '2022-06-01 01:10', '2022-06-01 01:20',\n",
            "       '2022-06-01 01:30',\n",
            "       ...\n",
            "       '2022-07-18 22:20', '2022-07-18 22:30', '2022-07-18 22:40',\n",
            "       '2022-07-18 22:50', '2022-07-18 23:00', '2022-07-18 23:10',\n",
            "       '2022-07-18 23:20', '2022-07-18 23:30', '2022-07-18 23:40',\n",
            "       '2022-07-18 23:50'],\n",
            "      dtype='object', name='ymdhm', length=6912)\n"
          ]
        }
      ],
      "source": [
        "print(df_rf.index)\n",
        "print(df_water.index)\n",
        "print(submission.index)"
      ]
    },
    {
      "cell_type": "code",
      "execution_count": null,
      "metadata": {
        "id": "_8fcDhnOVzwN"
      },
      "outputs": [],
      "source": [
        "# pd.to_datetime() 함수를 사용하여 시간 형식의 object 자료형 column을 datetime 형식으로 바꾼다.\n",
        "def index_to_datetime(df,format):\n",
        "    df.index = pd.to_datetime(df.index,\n",
        "                              format=format)\n",
        "    return df"
      ]
    },
    {
      "cell_type": "code",
      "execution_count": null,
      "metadata": {
        "id": "pFctxPkYXoSG"
      },
      "outputs": [],
      "source": [
        "df_rf=index_to_datetime(df=df_rf,format='%Y-%m-%d %H:%M')\n",
        "df_water=index_to_datetime(df=df_water,format='%Y-%m-%d %H:%M')\n",
        "submission=index_to_datetime(df=submission,format='%Y-%m-%d %H:%M')"
      ]
    },
    {
      "cell_type": "code",
      "execution_count": null,
      "metadata": {
        "id": "AFgiM0zBX4xd"
      },
      "outputs": [],
      "source": [
        "df_rf.sort_index(inplace=True)\n",
        "df_water.sort_index(inplace=True)\n",
        "submission.sort_index(inplace=True)"
      ]
    },
    {
      "cell_type": "code",
      "execution_count": null,
      "metadata": {
        "colab": {
          "base_uri": "https://localhost:8080/"
        },
        "id": "FopErS0tX64O",
        "outputId": "363cb25a-6517-4561-f334-22611dfe5fff"
      },
      "outputs": [
        {
          "name": "stdout",
          "output_type": "stream",
          "text": [
            "rain_data\n",
            "2012-05-01 00:00:00\n",
            "2022-07-18 23:50:00\n",
            "water_data\n",
            "2012-05-01 00:00:00\n",
            "2022-07-18 23:50:00\n",
            "submission\n",
            "2022-06-01 00:00:00\n",
            "2022-07-18 23:50:00\n"
          ]
        }
      ],
      "source": [
        "# 데이터 시간대 확인하기\n",
        "# DataFrame.dtypes: Return Series with the data type of each column.\n",
        "# To select Pandas datetimetz dtypes, use 'datetimetz' (new in 0.20.0) or 'datetime64[ns, tz]'\n",
        "def check_datetime(df):\n",
        "    print(df.name)\n",
        "    print(df.select_dtypes('datetime64[ns]').head(1).index[0])\n",
        "    print(df.select_dtypes('datetime64[ns]').tail(1).index[0])\n",
        "    return None\n",
        "\n",
        "check_datetime(df_rf)\n",
        "check_datetime(df_water)\n",
        "check_datetime(submission)"
      ]
    },
    {
      "cell_type": "code",
      "execution_count": null,
      "metadata": {
        "id": "TC39pJ7NZxio"
      },
      "outputs": [],
      "source": [
        "# data target 분리하기\n",
        "target = df_water.loc[:,submission.columns]\n",
        "data = pd.concat((df_rf,df_water.drop(submission.columns,axis=1)),axis=1)"
      ]
    },
    {
      "cell_type": "code",
      "execution_count": null,
      "metadata": {
        "id": "hhWP2Zu8aYgn"
      },
      "outputs": [],
      "source": [
        "# data와 target 하나 밀어주기 (과거데이터를 사용해야 함으로)\n",
        "'''\n",
        "reset_index\n",
        "- 데이터프레임의 전처리 과정으로 뒤죽박죽이 된 인덱스를 처음부터 재배열함\n",
        "- drop=True 옵션을 주면 기존 인덱스를 버리고 재배열함\n",
        "'''\n",
        "_target = target.reset_index(drop=True)\n",
        "_data = data.reset_index(drop=True)\n",
        "\n",
        "_data.index += 1\n",
        "\n",
        "tot=pd.concat((_data,_target),axis=1)\n",
        "tot=tot.sort_index()  # 인덱스를 오름차순으로 정렬\n",
        "\n",
        "tot=tot.iloc[1:-1]\n",
        "\n",
        "target = tot.loc[:,submission.columns]\n",
        "data = tot.drop(submission.columns,axis=1)"
      ]
    },
    {
      "cell_type": "code",
      "execution_count": null,
      "metadata": {
        "id": "WUhSgpd_cEqE"
      },
      "outputs": [],
      "source": [
        "train_target=target.iloc[:-len(submission),:]\n",
        "test_target=target.iloc[-len(submission):,:]\n",
        "\n",
        "train_data=data.iloc[:-len(submission),:]\n",
        "test_data=data.iloc[-len(submission):,:]"
      ]
    },
    {
      "cell_type": "code",
      "execution_count": null,
      "metadata": {
        "id": "Q8KRZ7APcNCQ"
      },
      "outputs": [],
      "source": [
        "# DataFrame.mean(): 열 축을 따라 평균을 찾음\n",
        "train_target.fillna(train_target.mean(),inplace=True)\n",
        "test_target.fillna(train_target.mean(),inplace=True)\n",
        "train_data.fillna(train_data.mean(),inplace=True)\n",
        "test_data.fillna(train_data.mean(),inplace=True)"
      ]
    },
    {
      "cell_type": "code",
      "execution_count": null,
      "metadata": {
        "colab": {
          "base_uri": "https://localhost:8080/"
        },
        "id": "dSXtroUgc89L",
        "outputId": "c7ebceaa-4fa3-4266-b0fa-263937b48a15"
      },
      "outputs": [
        {
          "name": "stdout",
          "output_type": "stream",
          "text": [
            "--data--\n",
            "(269423, 13)\n",
            "(6912, 13)\n",
            "--target--\n",
            "(269423, 4)\n",
            "(6912, 4)\n"
          ]
        }
      ],
      "source": [
        "print('--data--')\n",
        "print(train_data.shape)\n",
        "print(test_data.shape)\n",
        "print('--target--')\n",
        "print(train_target.shape)\n",
        "print(test_target.shape)"
      ]
    },
    {
      "cell_type": "markdown",
      "metadata": {
        "id": "LTu8YD-oc_5d"
      },
      "source": [
        "### modelling"
      ]
    },
    {
      "cell_type": "code",
      "execution_count": null,
      "metadata": {
        "id": "slH77XSOdBdG"
      },
      "outputs": [],
      "source": [
        "from sklearn.model_selection import KFold\n",
        "kfold = KFold(n_splits=2, shuffle=True)\n",
        "\n",
        "from sklearn.ensemble import RandomForestRegressor\n",
        "rf = RandomForestRegressor(n_jobs=-1)\n",
        "\n",
        "params = {\n",
        "    \"n_estimators\" : (100, 150, 200)\n",
        "}"
      ]
    },
    {
      "cell_type": "code",
      "execution_count": null,
      "metadata": {
        "id": "z0NG_JJKdEw6"
      },
      "outputs": [],
      "source": [
        "from sklearn.model_selection import GridSearchCV\n",
        "grid_cv = GridSearchCV(rf,\n",
        "                       param_grid=params,\n",
        "                       cv = kfold,\n",
        "                       n_jobs=-1)"
      ]
    },
    {
      "cell_type": "code",
      "execution_count": null,
      "metadata": {
        "colab": {
          "background_save": true,
          "base_uri": "https://localhost:8080/"
        },
        "id": "UdL3FJ6LdGVN",
        "outputId": "26318e31-6b79-4245-ba85-3ba9d5a72f59"
      },
      "outputs": [
        {
          "data": {
            "text/plain": [
              "GridSearchCV(cv=KFold(n_splits=2, random_state=None, shuffle=True),\n",
              "             estimator=RandomForestRegressor(n_jobs=-1), n_jobs=-1,\n",
              "             param_grid={'n_estimators': (100, 150, 200)})"
            ]
          },
          "execution_count": 18,
          "metadata": {},
          "output_type": "execute_result"
        }
      ],
      "source": [
        "grid_cv.fit(train_data,train_target)"
      ]
    },
    {
      "cell_type": "code",
      "execution_count": null,
      "metadata": {
        "colab": {
          "background_save": true,
          "base_uri": "https://localhost:8080/"
        },
        "id": "t5_ZcDLzlN0F",
        "outputId": "f51b238c-79d8-4b56-80c6-6c292266b842"
      },
      "outputs": [
        {
          "data": {
            "text/plain": [
              "RandomForestRegressor(n_estimators=150, n_jobs=-1)"
            ]
          },
          "execution_count": 19,
          "metadata": {},
          "output_type": "execute_result"
        }
      ],
      "source": [
        "grid_cv.best_estimator_"
      ]
    },
    {
      "cell_type": "code",
      "execution_count": null,
      "metadata": {
        "colab": {
          "background_save": true
        },
        "id": "y1Vk1DOQlScG"
      },
      "outputs": [],
      "source": [
        "model=grid_cv.best_estimator_\n",
        "model.fit(train_data,train_target)\n",
        "y_pred=model.predict(test_data)\n",
        "\n",
        "_submission_raw.iloc[:,:] = y_pred\n",
        "_submission_raw.to_csv('/content/drive/MyDrive/colab/competition_data/ans.csv')"
      ]
    }
  ],
  "metadata": {
    "accelerator": "GPU",
    "colab": {
      "collapsed_sections": [],
      "machine_shape": "hm",
      "name": "sklearn을 활용하여 답을 제출해보기.ipynb",
      "provenance": [],
      "authorship_tag": "ABX9TyPrm2mgQzsqthcZIEI560+X",
      "include_colab_link": true
    },
    "gpuClass": "standard",
    "kernelspec": {
      "display_name": "Python 3",
      "name": "python3"
    },
    "language_info": {
      "name": "python"
    }
  },
  "nbformat": 4,
  "nbformat_minor": 0
}