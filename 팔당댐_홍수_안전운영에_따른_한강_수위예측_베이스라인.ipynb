{
  "cells": [
    {
      "cell_type": "markdown",
      "metadata": {
        "id": "view-in-github",
        "colab_type": "text"
      },
      "source": [
        "<a href=\"https://colab.research.google.com/github/silver-or/dacon/blob/main/%ED%8C%94%EB%8B%B9%EB%8C%90_%ED%99%8D%EC%88%98_%EC%95%88%EC%A0%84%EC%9A%B4%EC%98%81%EC%97%90_%EB%94%B0%EB%A5%B8_%ED%95%9C%EA%B0%95_%EC%88%98%EC%9C%84%EC%98%88%EC%B8%A1_%EB%B2%A0%EC%9D%B4%EC%8A%A4%EB%9D%BC%EC%9D%B8.ipynb\" target=\"_parent\"><img src=\"https://colab.research.google.com/assets/colab-badge.svg\" alt=\"Open In Colab\"/></a>"
      ]
    },
    {
      "cell_type": "markdown",
      "source": [
        "### 필요한 라이브러리 불러오기"
      ],
      "metadata": {
        "id": "8eKY_mo1CN0d"
      }
    },
    {
      "cell_type": "code",
      "execution_count": null,
      "metadata": {
        "id": "GrB4fhrCu29Z"
      },
      "outputs": [],
      "source": [
        "import pandas as pd\n",
        "import numpy as np\n",
        "\n",
        "from glob import glob\n",
        "from tqdm import tqdm\n",
        "from scipy import interpolate\n",
        "\n",
        "import tensorflow as tf\n",
        "from keras.models import Sequential\n",
        "from keras.layers import Dense, LSTM, GRU, AveragePooling1D, GlobalAveragePooling1D"
      ]
    },
    {
      "cell_type": "code",
      "execution_count": null,
      "metadata": {
        "colab": {
          "base_uri": "https://localhost:8080/"
        },
        "id": "CUmrqLAcxWq0",
        "outputId": "22b94cc5-50eb-4b79-8c50-e5b1b7cbec37"
      },
      "outputs": [
        {
          "output_type": "stream",
          "name": "stdout",
          "text": [
            "Mounted at /content/drive\n"
          ]
        }
      ],
      "source": [
        "from google.colab import drive\n",
        "drive.mount('/content/drive')"
      ]
    },
    {
      "cell_type": "markdown",
      "source": [
        "### 데이터 전처리"
      ],
      "metadata": {
        "id": "OQLgttiCCKG3"
      }
    },
    {
      "cell_type": "code",
      "execution_count": null,
      "metadata": {
        "colab": {
          "base_uri": "https://localhost:8080/"
        },
        "id": "jwxCgBYkvX2i",
        "outputId": "52482508-9786-491d-d65a-2814b7434522"
      },
      "outputs": [
        {
          "output_type": "execute_result",
          "data": {
            "text/plain": [
              "['/content/drive/MyDrive/colab/competition_data/water_data/data_2012.csv',\n",
              " '/content/drive/MyDrive/colab/competition_data/water_data/data_2013.csv',\n",
              " '/content/drive/MyDrive/colab/competition_data/water_data/data_2014.csv',\n",
              " '/content/drive/MyDrive/colab/competition_data/water_data/data_2015.csv',\n",
              " '/content/drive/MyDrive/colab/competition_data/water_data/data_2016.csv',\n",
              " '/content/drive/MyDrive/colab/competition_data/water_data/data_2017.csv',\n",
              " '/content/drive/MyDrive/colab/competition_data/water_data/data_2018.csv',\n",
              " '/content/drive/MyDrive/colab/competition_data/water_data/data_2019.csv',\n",
              " '/content/drive/MyDrive/colab/competition_data/water_data/data_2020.csv',\n",
              " '/content/drive/MyDrive/colab/competition_data/water_data/data_2021.csv',\n",
              " '/content/drive/MyDrive/colab/competition_data/water_data/data_2022.csv']"
            ]
          },
          "metadata": {},
          "execution_count": 3
        }
      ],
      "source": [
        "w_list = sorted(glob(r\"/content/drive/MyDrive/colab/competition_data/water_data/*.csv\"))\n",
        "w_list"
      ]
    },
    {
      "cell_type": "code",
      "execution_count": null,
      "metadata": {
        "colab": {
          "base_uri": "https://localhost:8080/"
        },
        "id": "xNmea7iIxtiM",
        "outputId": "19c44122-b8dd-4e80-95e4-0eab43f94cd1"
      },
      "outputs": [
        {
          "output_type": "execute_result",
          "data": {
            "text/plain": [
              "(26496, 15)"
            ]
          },
          "metadata": {},
          "execution_count": 4
        }
      ],
      "source": [
        "pd.read_csv(w_list[0]).shape"
      ]
    },
    {
      "cell_type": "code",
      "execution_count": null,
      "metadata": {
        "colab": {
          "base_uri": "https://localhost:8080/",
          "height": 175
        },
        "id": "p0yB7Bhnx2Gh",
        "outputId": "df010f4e-ad38-4ba3-904a-0493fedd03a0"
      },
      "outputs": [
        {
          "output_type": "execute_result",
          "data": {
            "text/plain": [
              "              ymdhm     swl    inf     sfw   ecpc  tototf  tide_level  \\\n",
              "0  2012-05-01 00:00  24.800  555.0  219.07  24.93   555.0       445.0   \n",
              "1  2012-05-01 00:10  24.794  464.6  218.86  25.15   562.9       449.0   \n",
              "2  2012-05-01 00:20  24.789  478.1  218.69  25.31   576.4       451.0   \n",
              "3  2012-05-01 00:30  24.789  464.8  218.69  25.31   563.1       452.0   \n",
              "\n",
              "   wl_1018662  fw_1018662  wl_1018680  fw_1018680  wl_1018683  fw_1018683  \\\n",
              "0       310.7      469.05       300.2         0.0       290.0      729.80   \n",
              "1       314.7      498.00       300.2         0.0       290.0      731.48   \n",
              "2       313.7      490.68       301.2         0.0       290.0      726.42   \n",
              "3       311.7      476.21       301.2         0.0       290.0      726.42   \n",
              "\n",
              "   wl_1019630  fw_1019630  \n",
              "0       275.3      540.18  \n",
              "1       275.3      540.18  \n",
              "2       275.3      540.18  \n",
              "3       276.3      552.17  "
            ],
            "text/html": [
              "\n",
              "  <div id=\"df-71cbd986-68bd-409a-885d-fcf1b506bdb2\">\n",
              "    <div class=\"colab-df-container\">\n",
              "      <div>\n",
              "<style scoped>\n",
              "    .dataframe tbody tr th:only-of-type {\n",
              "        vertical-align: middle;\n",
              "    }\n",
              "\n",
              "    .dataframe tbody tr th {\n",
              "        vertical-align: top;\n",
              "    }\n",
              "\n",
              "    .dataframe thead th {\n",
              "        text-align: right;\n",
              "    }\n",
              "</style>\n",
              "<table border=\"1\" class=\"dataframe\">\n",
              "  <thead>\n",
              "    <tr style=\"text-align: right;\">\n",
              "      <th></th>\n",
              "      <th>ymdhm</th>\n",
              "      <th>swl</th>\n",
              "      <th>inf</th>\n",
              "      <th>sfw</th>\n",
              "      <th>ecpc</th>\n",
              "      <th>tototf</th>\n",
              "      <th>tide_level</th>\n",
              "      <th>wl_1018662</th>\n",
              "      <th>fw_1018662</th>\n",
              "      <th>wl_1018680</th>\n",
              "      <th>fw_1018680</th>\n",
              "      <th>wl_1018683</th>\n",
              "      <th>fw_1018683</th>\n",
              "      <th>wl_1019630</th>\n",
              "      <th>fw_1019630</th>\n",
              "    </tr>\n",
              "  </thead>\n",
              "  <tbody>\n",
              "    <tr>\n",
              "      <th>0</th>\n",
              "      <td>2012-05-01 00:00</td>\n",
              "      <td>24.800</td>\n",
              "      <td>555.0</td>\n",
              "      <td>219.07</td>\n",
              "      <td>24.93</td>\n",
              "      <td>555.0</td>\n",
              "      <td>445.0</td>\n",
              "      <td>310.7</td>\n",
              "      <td>469.05</td>\n",
              "      <td>300.2</td>\n",
              "      <td>0.0</td>\n",
              "      <td>290.0</td>\n",
              "      <td>729.80</td>\n",
              "      <td>275.3</td>\n",
              "      <td>540.18</td>\n",
              "    </tr>\n",
              "    <tr>\n",
              "      <th>1</th>\n",
              "      <td>2012-05-01 00:10</td>\n",
              "      <td>24.794</td>\n",
              "      <td>464.6</td>\n",
              "      <td>218.86</td>\n",
              "      <td>25.15</td>\n",
              "      <td>562.9</td>\n",
              "      <td>449.0</td>\n",
              "      <td>314.7</td>\n",
              "      <td>498.00</td>\n",
              "      <td>300.2</td>\n",
              "      <td>0.0</td>\n",
              "      <td>290.0</td>\n",
              "      <td>731.48</td>\n",
              "      <td>275.3</td>\n",
              "      <td>540.18</td>\n",
              "    </tr>\n",
              "    <tr>\n",
              "      <th>2</th>\n",
              "      <td>2012-05-01 00:20</td>\n",
              "      <td>24.789</td>\n",
              "      <td>478.1</td>\n",
              "      <td>218.69</td>\n",
              "      <td>25.31</td>\n",
              "      <td>576.4</td>\n",
              "      <td>451.0</td>\n",
              "      <td>313.7</td>\n",
              "      <td>490.68</td>\n",
              "      <td>301.2</td>\n",
              "      <td>0.0</td>\n",
              "      <td>290.0</td>\n",
              "      <td>726.42</td>\n",
              "      <td>275.3</td>\n",
              "      <td>540.18</td>\n",
              "    </tr>\n",
              "    <tr>\n",
              "      <th>3</th>\n",
              "      <td>2012-05-01 00:30</td>\n",
              "      <td>24.789</td>\n",
              "      <td>464.8</td>\n",
              "      <td>218.69</td>\n",
              "      <td>25.31</td>\n",
              "      <td>563.1</td>\n",
              "      <td>452.0</td>\n",
              "      <td>311.7</td>\n",
              "      <td>476.21</td>\n",
              "      <td>301.2</td>\n",
              "      <td>0.0</td>\n",
              "      <td>290.0</td>\n",
              "      <td>726.42</td>\n",
              "      <td>276.3</td>\n",
              "      <td>552.17</td>\n",
              "    </tr>\n",
              "  </tbody>\n",
              "</table>\n",
              "</div>\n",
              "      <button class=\"colab-df-convert\" onclick=\"convertToInteractive('df-71cbd986-68bd-409a-885d-fcf1b506bdb2')\"\n",
              "              title=\"Convert this dataframe to an interactive table.\"\n",
              "              style=\"display:none;\">\n",
              "        \n",
              "  <svg xmlns=\"http://www.w3.org/2000/svg\" height=\"24px\"viewBox=\"0 0 24 24\"\n",
              "       width=\"24px\">\n",
              "    <path d=\"M0 0h24v24H0V0z\" fill=\"none\"/>\n",
              "    <path d=\"M18.56 5.44l.94 2.06.94-2.06 2.06-.94-2.06-.94-.94-2.06-.94 2.06-2.06.94zm-11 1L8.5 8.5l.94-2.06 2.06-.94-2.06-.94L8.5 2.5l-.94 2.06-2.06.94zm10 10l.94 2.06.94-2.06 2.06-.94-2.06-.94-.94-2.06-.94 2.06-2.06.94z\"/><path d=\"M17.41 7.96l-1.37-1.37c-.4-.4-.92-.59-1.43-.59-.52 0-1.04.2-1.43.59L10.3 9.45l-7.72 7.72c-.78.78-.78 2.05 0 2.83L4 21.41c.39.39.9.59 1.41.59.51 0 1.02-.2 1.41-.59l7.78-7.78 2.81-2.81c.8-.78.8-2.07 0-2.86zM5.41 20L4 18.59l7.72-7.72 1.47 1.35L5.41 20z\"/>\n",
              "  </svg>\n",
              "      </button>\n",
              "      \n",
              "  <style>\n",
              "    .colab-df-container {\n",
              "      display:flex;\n",
              "      flex-wrap:wrap;\n",
              "      gap: 12px;\n",
              "    }\n",
              "\n",
              "    .colab-df-convert {\n",
              "      background-color: #E8F0FE;\n",
              "      border: none;\n",
              "      border-radius: 50%;\n",
              "      cursor: pointer;\n",
              "      display: none;\n",
              "      fill: #1967D2;\n",
              "      height: 32px;\n",
              "      padding: 0 0 0 0;\n",
              "      width: 32px;\n",
              "    }\n",
              "\n",
              "    .colab-df-convert:hover {\n",
              "      background-color: #E2EBFA;\n",
              "      box-shadow: 0px 1px 2px rgba(60, 64, 67, 0.3), 0px 1px 3px 1px rgba(60, 64, 67, 0.15);\n",
              "      fill: #174EA6;\n",
              "    }\n",
              "\n",
              "    [theme=dark] .colab-df-convert {\n",
              "      background-color: #3B4455;\n",
              "      fill: #D2E3FC;\n",
              "    }\n",
              "\n",
              "    [theme=dark] .colab-df-convert:hover {\n",
              "      background-color: #434B5C;\n",
              "      box-shadow: 0px 1px 3px 1px rgba(0, 0, 0, 0.15);\n",
              "      filter: drop-shadow(0px 1px 2px rgba(0, 0, 0, 0.3));\n",
              "      fill: #FFFFFF;\n",
              "    }\n",
              "  </style>\n",
              "\n",
              "      <script>\n",
              "        const buttonEl =\n",
              "          document.querySelector('#df-71cbd986-68bd-409a-885d-fcf1b506bdb2 button.colab-df-convert');\n",
              "        buttonEl.style.display =\n",
              "          google.colab.kernel.accessAllowed ? 'block' : 'none';\n",
              "\n",
              "        async function convertToInteractive(key) {\n",
              "          const element = document.querySelector('#df-71cbd986-68bd-409a-885d-fcf1b506bdb2');\n",
              "          const dataTable =\n",
              "            await google.colab.kernel.invokeFunction('convertToInteractive',\n",
              "                                                     [key], {});\n",
              "          if (!dataTable) return;\n",
              "\n",
              "          const docLinkHtml = 'Like what you see? Visit the ' +\n",
              "            '<a target=\"_blank\" href=https://colab.research.google.com/notebooks/data_table.ipynb>data table notebook</a>'\n",
              "            + ' to learn more about interactive tables.';\n",
              "          element.innerHTML = '';\n",
              "          dataTable['output_type'] = 'display_data';\n",
              "          await google.colab.output.renderOutput(dataTable, element);\n",
              "          const docLink = document.createElement('div');\n",
              "          docLink.innerHTML = docLinkHtml;\n",
              "          element.appendChild(docLink);\n",
              "        }\n",
              "      </script>\n",
              "    </div>\n",
              "  </div>\n",
              "  "
            ]
          },
          "metadata": {},
          "execution_count": 5
        }
      ],
      "source": [
        "pd.read_csv(w_list[0]).head(4)"
      ]
    },
    {
      "cell_type": "code",
      "execution_count": null,
      "metadata": {
        "colab": {
          "base_uri": "https://localhost:8080/"
        },
        "id": "Rghpaz6oyBJq",
        "outputId": "bdfb6bf0-a669-416a-89fb-ad7088a56c9f"
      },
      "outputs": [
        {
          "output_type": "stream",
          "name": "stderr",
          "text": [
            "100%|██████████| 26064/26064 [00:27<00:00, 956.60it/s]\n",
            "100%|██████████| 26064/26064 [00:26<00:00, 974.23it/s]\n",
            "100%|██████████| 26064/26064 [00:26<00:00, 988.21it/s] \n",
            "100%|██████████| 26064/26064 [00:26<00:00, 979.35it/s]\n",
            "100%|██████████| 26064/26064 [00:26<00:00, 968.48it/s]\n",
            "100%|██████████| 26064/26064 [00:26<00:00, 984.39it/s]\n",
            "100%|██████████| 26064/26064 [00:26<00:00, 977.86it/s]\n",
            "100%|██████████| 26064/26064 [00:26<00:00, 986.26it/s] \n",
            "100%|██████████| 26064/26064 [00:26<00:00, 993.21it/s]\n",
            "100%|██████████| 26064/26064 [00:26<00:00, 989.98it/s]\n"
          ]
        }
      ],
      "source": [
        "train_data = []\n",
        "train_label = []\n",
        "num = 0\n",
        "\n",
        "for i in w_list[:-1]:\n",
        "  tmp = pd.read_csv(i)\n",
        "  tmp = tmp.replace(\" \", np.nan)\n",
        "  tmp = tmp.interpolate(method = 'values')  # 선형으로 비례하여 결측값 보간\n",
        "  tmp = tmp.fillna(0)\n",
        "\n",
        "  # 431은 3일 간격, 432는 예측하고자 하는 시간\n",
        "  for j in tqdm(range(len(tmp)-432)):\n",
        "    train_data.append(np.array(tmp.loc[j: j+431, [\"swl\", \"inf\", \"sfw\", \"ecpc\",\n",
        "                                \"tototf\", \"tide_level\",\n",
        "                                \"fw_1018662\", \"fw_1018680\",\n",
        "                                \"fw_1018683\", \"fw_1019630\"]]).astype(float))\n",
        "    train_label.append(np.array(tmp.loc[j + 432, [\"wl_1018662\", \"wl_1018680\",\n",
        "                                                  \"wl_1018683\", \"wl_1019630\"]]).astype(float))"
      ]
    },
    {
      "cell_type": "code",
      "execution_count": null,
      "metadata": {
        "id": "jVCz44vm2WiS",
        "colab": {
          "base_uri": "https://localhost:8080/"
        },
        "outputId": "0a8fd44f-2abc-4610-b5bc-c2aae78c9e79"
      },
      "outputs": [
        {
          "output_type": "stream",
          "name": "stdout",
          "text": [
            "(260640, 432, 10)\n",
            "(260640, 4)\n"
          ]
        }
      ],
      "source": [
        "train_data = np.array(train_data)\n",
        "train_label = np.array(train_label)\n",
        "\n",
        "print(train_data.shape)\n",
        "print(train_label.shape)"
      ]
    },
    {
      "cell_type": "markdown",
      "source": [
        "### 모델링 및 모델 학습"
      ],
      "metadata": {
        "id": "uls0mwNiBteh"
      }
    },
    {
      "cell_type": "code",
      "source": [
        "input_shape = (train_data[0].shape[0], train_data[0].shape[1])\n",
        "\n",
        "model = Sequential()\n",
        "model.add(GRU(256, input_shape=input_shape))\n",
        "model.add(Dense(4, activation='relu'))\n",
        "\n",
        "optimizer = tf.optimizers.RMSprop(0.001)\n",
        "\n",
        "model.compile(optimizer=optimizer, loss='mse', metrics=['mae'])"
      ],
      "metadata": {
        "id": "Q6pAh9XzBfIM"
      },
      "execution_count": null,
      "outputs": []
    },
    {
      "cell_type": "code",
      "source": [
        "model.fit(train_data, train_label, epochs=10, batch_size=128)"
      ],
      "metadata": {
        "colab": {
          "base_uri": "https://localhost:8080/"
        },
        "id": "d1PgYh00CVsS",
        "outputId": "3c90da6a-629a-4e4c-bee5-73594afef3f8"
      },
      "execution_count": 17,
      "outputs": [
        {
          "output_type": "stream",
          "name": "stdout",
          "text": [
            "Epoch 1/10\n",
            "2037/2037 [==============================] - 86s 42ms/step - loss: 248.5114 - mae: 7.9789\n",
            "Epoch 2/10\n",
            "2037/2037 [==============================] - 85s 42ms/step - loss: 248.5723 - mae: 8.1448\n",
            "Epoch 3/10\n",
            "2037/2037 [==============================] - 84s 41ms/step - loss: 251.8332 - mae: 8.2945\n",
            "Epoch 4/10\n",
            "2037/2037 [==============================] - 85s 42ms/step - loss: 248.6523 - mae: 8.2934\n",
            "Epoch 5/10\n",
            "2037/2037 [==============================] - 85s 42ms/step - loss: 269.3845 - mae: 8.6577\n",
            "Epoch 6/10\n",
            "2037/2037 [==============================] - 85s 42ms/step - loss: 257.7566 - mae: 8.7302\n",
            "Epoch 7/10\n",
            "2037/2037 [==============================] - 85s 42ms/step - loss: 328.5203 - mae: 9.2913\n",
            "Epoch 8/10\n",
            "2037/2037 [==============================] - 84s 41ms/step - loss: 303.0479 - mae: 9.3615\n",
            "Epoch 9/10\n",
            "2037/2037 [==============================] - 84s 41ms/step - loss: 284.6966 - mae: 9.1706\n",
            "Epoch 10/10\n",
            "2037/2037 [==============================] - 85s 41ms/step - loss: 269.3258 - mae: 9.2979\n"
          ]
        },
        {
          "output_type": "execute_result",
          "data": {
            "text/plain": [
              "<keras.callbacks.History at 0x7f1539ca35d0>"
            ]
          },
          "metadata": {},
          "execution_count": 17
        }
      ]
    },
    {
      "cell_type": "markdown",
      "source": [
        "### 추론 데이터셋 만들기"
      ],
      "metadata": {
        "id": "jbMCnPkZF7Iz"
      }
    },
    {
      "cell_type": "code",
      "source": [
        "test_data = []\n",
        "test_label = []\n",
        "\n",
        "tmp = pd.read_csv(w_list[-1])\n",
        "tmp = tmp.replace(\" \", np.nan)\n",
        "\n",
        "# 이전 값을 사용 (결측값을 앞 방향으로 채우기)\n",
        "tmp = tmp.fillna(method = 'pad')\n",
        "tmp = tmp.fillna(0)\n",
        "\n",
        "# tmp.loc[:, [\"wl_1018662\", \"wl_1018680\", \"wl_1018683\", \"wl_1019630\"]] = tmp.loc[:, [\"wl_1018662\", \"wl_1018680\", \"wl_1018683\", \"wl_1019630\"]]*100\n",
        "\n",
        "for j in tqdm(range(4032, len(tmp)-432)):\n",
        "    test_data.append(np.array(tmp.loc[j:j + 431, [\"swl\", \"inf\", \"sfw\", \"ecpc\",\n",
        "                                                    \"tototf\", \"tide_level\",\n",
        "                                                    \"fw_1018662\", \"fw_1018680\",\n",
        "                                                    \"fw_1018683\", \"fw_1019630\"]]).astype(float))\n",
        "        \n",
        "    test_label.append(np.array(tmp.loc[j + 432, [\"wl_1018662\", \"wl_1018680\",\n",
        "                                                    \"wl_1018683\", \"wl_1019630\"]]).astype(float))"
      ],
      "metadata": {
        "colab": {
          "base_uri": "https://localhost:8080/"
        },
        "id": "NM1CpIOIF-pM",
        "outputId": "31f24ab7-a571-490d-9c41-fba28d587e64"
      },
      "execution_count": 19,
      "outputs": [
        {
          "output_type": "stream",
          "name": "stderr",
          "text": [
            "100%|██████████| 6912/6912 [00:08<00:00, 776.62it/s]\n"
          ]
        }
      ]
    },
    {
      "cell_type": "code",
      "source": [
        "test_data = np.array(test_data)\n",
        "test_label = np.array(test_label)\n",
        "\n",
        "print(test_data.shape)\n",
        "print(test_label.shape)"
      ],
      "metadata": {
        "colab": {
          "base_uri": "https://localhost:8080/"
        },
        "id": "qLqtOf5tHFb_",
        "outputId": "d51ce7d0-b46f-4895-f7c7-53f064f8dbfb"
      },
      "execution_count": 20,
      "outputs": [
        {
          "output_type": "stream",
          "name": "stdout",
          "text": [
            "(6912, 432, 10)\n",
            "(6912, 4)\n"
          ]
        }
      ]
    },
    {
      "cell_type": "code",
      "source": [
        "score = model.evaluate(test_data, test_label)\n",
        "print('Test score:', score[0])\n",
        "print('Test accuracy:', score[1])"
      ],
      "metadata": {
        "colab": {
          "base_uri": "https://localhost:8080/"
        },
        "id": "wyt43sEwcBKa",
        "outputId": "b67f1c5f-eade-449e-fade-b8890875062e"
      },
      "execution_count": 21,
      "outputs": [
        {
          "output_type": "stream",
          "name": "stdout",
          "text": [
            "216/216 [==============================] - 2s 9ms/step - loss: 108646.4531 - mae: 321.1088\n",
            "Test score: 108646.453125\n",
            "Test accuracy: 321.1087951660156\n"
          ]
        }
      ]
    },
    {
      "cell_type": "markdown",
      "source": [
        "### 제출 파일 만들기"
      ],
      "metadata": {
        "id": "xrb2Nw6wHJA8"
      }
    },
    {
      "cell_type": "code",
      "source": [
        "pred = model.predict(test_data)"
      ],
      "metadata": {
        "id": "hR2zPX7VHLTL"
      },
      "execution_count": 22,
      "outputs": []
    },
    {
      "cell_type": "code",
      "source": [
        "pred = pd.DataFrame(pred)"
      ],
      "metadata": {
        "id": "0FlhNT7uHPO6"
      },
      "execution_count": 23,
      "outputs": []
    },
    {
      "cell_type": "code",
      "source": [
        "sample_submission = pd.read_csv(\"/content/drive/MyDrive/colab/competition_data/sample_submission.csv\")\n",
        "\n",
        "sample_submission[\"wl_1018662\"] = pred[0]\n",
        "sample_submission[\"wl_1018680\"] = pred[1]\n",
        "sample_submission[\"wl_1018683\"] = pred[2]\n",
        "sample_submission[\"wl_1019630\"] = pred[3]"
      ],
      "metadata": {
        "id": "NvH1zqQJHS9j"
      },
      "execution_count": 24,
      "outputs": []
    },
    {
      "cell_type": "code",
      "source": [
        "sample_submission.to_csv(\"/content/drive/MyDrive/colab/competition_data/baseline.csv\", index = False)"
      ],
      "metadata": {
        "id": "6lelIvfpHuHe"
      },
      "execution_count": 26,
      "outputs": []
    }
  ],
  "metadata": {
    "colab": {
      "collapsed_sections": [],
      "name": "팔당댐 홍수 안전운영에 따른 한강 수위예측_베이스라인.ipynb",
      "provenance": [],
      "machine_shape": "hm",
      "authorship_tag": "ABX9TyNny0hUW8RF8w+mOQ6kIH7Y",
      "include_colab_link": true
    },
    "kernelspec": {
      "display_name": "Python 3",
      "name": "python3"
    },
    "language_info": {
      "name": "python"
    },
    "accelerator": "GPU",
    "gpuClass": "standard"
  },
  "nbformat": 4,
  "nbformat_minor": 0
}